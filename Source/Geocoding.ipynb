{
 "cells": [
  {
   "cell_type": "code",
   "execution_count": 4,
   "id": "20701ccf",
   "metadata": {},
   "outputs": [],
   "source": [
    "# import module\n",
    "from geopy.geocoders import Nominatim"
   ]
  },
  {
   "cell_type": "code",
   "execution_count": 25,
   "id": "31f3b2a1",
   "metadata": {},
   "outputs": [],
   "source": [
    "def locate(country):\n",
    "    \"A function that takes a country name and returns its coordinates\"\n",
    "    locator = Nominatim(user_agent=\"myGeocoder\")\n",
    "    location = locator.geocode(country)\n",
    "    lat = location.latitude\n",
    "    lon = location.longitude\n",
    "    print(\"coordinates of \", country, \"are: \", lon, \",\", lat)\n",
    "    return lon, lat\n"
   ]
  },
  {
   "cell_type": "code",
   "execution_count": 28,
   "id": "c8d36c5e",
   "metadata": {},
   "outputs": [
    {
     "name": "stdout",
     "output_type": "stream",
     "text": [
      "coordinates of  France are:  1.8883335 , 46.603354\n"
     ]
    }
   ],
   "source": [
    "lon, lat = locate(\"France\")\n"
   ]
  },
  {
   "cell_type": "code",
   "execution_count": null,
   "id": "c431543b",
   "metadata": {},
   "outputs": [],
   "source": []
  }
 ],
 "metadata": {
  "kernelspec": {
   "display_name": "Python 3 (ipykernel)",
   "language": "python",
   "name": "python3"
  },
  "language_info": {
   "codemirror_mode": {
    "name": "ipython",
    "version": 3
   },
   "file_extension": ".py",
   "mimetype": "text/x-python",
   "name": "python",
   "nbconvert_exporter": "python",
   "pygments_lexer": "ipython3",
   "version": "3.9.7"
  }
 },
 "nbformat": 4,
 "nbformat_minor": 5
}
