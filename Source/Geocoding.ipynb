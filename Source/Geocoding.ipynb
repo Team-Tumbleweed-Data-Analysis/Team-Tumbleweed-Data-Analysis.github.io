{
 "cells": [
  {
   "cell_type": "code",
   "execution_count": 1,
   "id": "01af561f",
   "metadata": {},
   "outputs": [],
   "source": [
    "# import modules\n",
    "from geopy.geocoders import Nominatim\n",
    "import pandas as pd\n",
    "import folium"
   ]
  },
  {
   "cell_type": "code",
   "execution_count": 2,
   "id": "0abf501b",
   "metadata": {},
   "outputs": [],
   "source": [
    "def locate(country):\n",
    "    \"A function that takes a country name and returns its coordinates\"\n",
    "    locator = Nominatim(user_agent=\"myGeocoder\")\n",
    "    location = locator.geocode(country)\n",
    "    lon = location.longitude\n",
    "    lat = location.latitude\n",
    "    print(\"coordinates of \", country, \"are: \", lon, \",\", lat)\n",
    "    return lon, lat\n"
   ]
  },
  {
   "cell_type": "code",
   "execution_count": 3,
   "id": "7f0e1887",
   "metadata": {},
   "outputs": [
    {
     "name": "stdout",
     "output_type": "stream",
     "text": [
      "coordinates of  France are:  1.8883335 , 46.603354\n"
     ]
    }
   ],
   "source": [
    "#test\n",
    "lon, lat = locate(\"France\")\n"
   ]
  },
  {
   "cell_type": "code",
   "execution_count": 4,
   "id": "d01fbcc6",
   "metadata": {},
   "outputs": [],
   "source": [
    "#load the data\n",
    "data = pd.read_csv('NewLocationData.csv')"
   ]
  },
  {
   "cell_type": "code",
   "execution_count": 5,
   "id": "9510f6c1",
   "metadata": {},
   "outputs": [],
   "source": [
    "#isolate the column of interest\n",
    "country_data = data[\"Country of Origin (Nationality)\"]\n"
   ]
  },
  {
   "cell_type": "code",
   "execution_count": 6,
   "id": "172820b6",
   "metadata": {},
   "outputs": [],
   "source": [
    "#create a list of all countries\n",
    "countries = []\n",
    "for country in country_data:\n",
    "    countries.append(country)\n",
    "\n"
   ]
  },
  {
   "cell_type": "code",
   "execution_count": 7,
   "id": "2cf549e1",
   "metadata": {},
   "outputs": [
    {
     "name": "stdout",
     "output_type": "stream",
     "text": [
      "coordinates of  India are:  78.6677428 , 22.3511148\n",
      "coordinates of  India are:  78.6677428 , 22.3511148\n",
      "coordinates of  Austria are:  14.12456 , 47.59397\n",
      "coordinates of  Iran are:  54.5643516 , 32.6475314\n",
      "coordinates of  Austria are:  14.12456 , 47.59397\n",
      "coordinates of  India are:  78.6677428 , 22.3511148\n",
      "coordinates of  Canada are:  -107.991707 , 61.0666922\n",
      "coordinates of  Austria are:  14.12456 , 47.59397\n",
      "coordinates of  Romania are:  24.6859225 , 45.9852129\n",
      "coordinates of  Indonesia are:  117.8902853 , -2.4833826\n",
      "coordinates of  Austria are:  14.12456 , 47.59397\n",
      "coordinates of  India are:  78.6677428 , 22.3511148\n",
      "coordinates of  Luxembourg are:  6.1296751 , 49.8158683\n",
      "coordinates of  Zimbabwe are:  29.7468414 , -18.4554963\n",
      "coordinates of  Germany are:  10.4478313 , 51.1638175\n",
      "coordinates of  Trinidad are:  -61.26130538878063 , 10.443024300000001\n",
      "coordinates of  Italy are:  12.674297 , 42.6384261\n",
      "coordinates of  United States are:  -100.445882 , 39.7837304\n",
      "coordinates of  South Africa are:  24.991639 , -28.8166236\n",
      "coordinates of  United Kingdom  are:  -3.2765753 , 54.7023545\n",
      "coordinates of  India  are:  78.6677428 , 22.3511148\n",
      "coordinates of  Austria are:  14.12456 , 47.59397\n",
      "coordinates of  Austria are:  14.12456 , 47.59397\n",
      "coordinates of  Colombia are:  -72.9088133 , 4.099917\n",
      "coordinates of  Austria are:  14.12456 , 47.59397\n",
      "coordinates of  Netherlands are:  5.6343227 , 52.2434979\n",
      "coordinates of  Italy are:  12.674297 , 42.6384261\n",
      "coordinates of  Austria are:  14.12456 , 47.59397\n",
      "coordinates of  Austria are:  14.12456 , 47.59397\n",
      "coordinates of  Austria are:  14.12456 , 47.59397\n",
      "coordinates of  India are:  78.6677428 , 22.3511148\n",
      "coordinates of  Spain are:  -4.8379791 , 39.3260685\n",
      "coordinates of  Iran are:  54.5643516 , 32.6475314\n",
      "coordinates of  Austria are:  14.12456 , 47.59397\n",
      "coordinates of  Austria are:  14.12456 , 47.59397\n",
      "coordinates of  Lithuania are:  23.7499997 , 55.3500003\n",
      "coordinates of  Netherlands are:  5.6343227 , 52.2434979\n",
      "coordinates of  India are:  78.6677428 , 22.3511148\n",
      "coordinates of  India are:  78.6677428 , 22.3511148\n",
      "coordinates of  Netherlands are:  5.6343227 , 52.2434979\n",
      "coordinates of  Netherlands are:  5.6343227 , 52.2434979\n",
      "coordinates of  Austria are:  14.12456 , 47.59397\n",
      "coordinates of  Greece are:  21.9877132 , 38.9953683\n",
      "coordinates of  Romania are:  24.6859225 , 45.9852129\n",
      "coordinates of  Romania are:  24.6859225 , 45.9852129\n",
      "coordinates of  Romania are:  24.6859225 , 45.9852129\n",
      "coordinates of  Romania are:  24.6859225 , 45.9852129\n",
      "coordinates of  Canada are:  -107.991707 , 61.0666922\n",
      "coordinates of  Greece are:  21.9877132 , 38.9953683\n",
      "coordinates of  Israel are:  34.8594762 , 30.8124247\n",
      "coordinates of  Belgium are:  4.6667145 , 50.6402809\n",
      "coordinates of  Netherlands are:  5.6343227 , 52.2434979\n",
      "coordinates of  India are:  78.6677428 , 22.3511148\n",
      "coordinates of  Sweden are:  14.5208584 , 59.6749712\n",
      "coordinates of  Spain are:  -4.8379791 , 39.3260685\n",
      "coordinates of  Spain are:  -4.8379791 , 39.3260685\n",
      "coordinates of  Romania are:  24.6859225 , 45.9852129\n",
      "coordinates of  Hungary are:  19.5060937 , 47.1817585\n"
     ]
    }
   ],
   "source": [
    "#locate all the countries and put them in a list\n",
    "coordinates = []\n",
    "for country in countries:\n",
    "    lon, lat = locate(country)\n",
    "    #count the number of times this country occurs\n",
    "    count = countries.count(country)\n",
    "    location = [country, lon, lat, count]\n",
    "    coordinates.append(location)\n",
    "\n",
    "    \n"
   ]
  },
  {
   "cell_type": "code",
   "execution_count": 8,
   "id": "3ed77457",
   "metadata": {},
   "outputs": [],
   "source": [
    "#turn the list into a dataframe\n",
    "dataframe = pd.DataFrame(coordinates, columns = [\"country\", \"longitude\", \"latitude\", \"count\"])"
   ]
  },
  {
   "cell_type": "code",
   "execution_count": 9,
   "id": "ba031915",
   "metadata": {},
   "outputs": [],
   "source": [
    "dataframe.to_csv(\"countries.csv\", index = False)"
   ]
  },
  {
   "cell_type": "code",
   "execution_count": null,
   "id": "a2358b91",
   "metadata": {},
   "outputs": [],
   "source": []
  }
 ],
 "metadata": {
  "kernelspec": {
   "display_name": "Python 3 (ipykernel)",
   "language": "python",
   "name": "python3"
  },
  "language_info": {
   "codemirror_mode": {
    "name": "ipython",
    "version": 3
   },
   "file_extension": ".py",
   "mimetype": "text/x-python",
   "name": "python",
   "nbconvert_exporter": "python",
   "pygments_lexer": "ipython3",
   "version": "3.9.7"
  }
 },
 "nbformat": 4,
 "nbformat_minor": 5
}
